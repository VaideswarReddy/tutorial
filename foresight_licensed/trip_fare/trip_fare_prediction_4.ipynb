{
 "cells": [
  {
   "cell_type": "markdown",
   "id": "93f77938-7669-4c71-aabe-49ecd7316e2e",
   "metadata": {
    "tags": []
   },
   "source": [
    "***\n",
    "\n",
    "# Taxi Trip Fare Prediction - Scheduled DAG\n",
    "\n",
    "***\n",
    "\n",
    "The objective of this example is to leverage the Schedule DAG functionality to train and deploy a taxi trip fare prediction model. This functionality streamlines the entire process, including featureset creation, handling contextual features, creating datasets, and conducting training autonomously once the scheduled task is initiated.. We will\n",
    "- create the training dataset using contextual features\n",
    "- train an ML model based on historical taxi trip fare data and contextual features\n",
    "- serve the ML model to predict the trip fare for new trips\n",
    "\n",
    "\n",
    "### Prepare your data\n",
    "\n",
    "In this example, we utilize the trip table retrieved from an S3 bucket to construct a training dataset. To enhance the dataset and enable the model to gain a deeper understanding of context for improved predictions, we incorporate three additional tables: hour_of_day_context, holiday_weekend_context, and geo_area_context. These tables contribute additional contextual information to the model, enriching the training data and enhancing the model's predictive capabilities.\n",
    "\n",
    "Let us look at the first few lines of the csv's which we will be going to use for building Model.\n",
    "\n",
    "##### hour_of_day_context.csv\n",
    "    hour_of_day,hourly_segment\n",
    "    0,early morning\n",
    "    1,early morning\n",
    "    2,early morning\n",
    "    3,early morning\n",
    "\n",
    "##### holiday_weekend_context.csv\n",
    "    calendar_day,is_holiday_or_weekend\n",
    "    2009-01-01,1\n",
    "    2009-01-02,0\n",
    "    2009-01-03,1\n",
    "    2009-01-04,1\n",
    "    \n",
    "##### geo_area_context.csv\n",
    "    zipcode,geo_area\n",
    "    10023,Commercial\n",
    "    10021,Residential\n",
    "    10002,Suburbs\n",
    "    11201,Commercial\n",
    "\n",
    "### Static contextual feature data\n",
    "\n",
    "We will enhance the data by adding three contextual feature tables. \n",
    "\n",
    "- an hourly segment table that maps an hour to an hourly-segment. \n",
    "- a holiday weekend table that maps a date to a flag indicating whether that date was a holiday-or-weekend or neither.\n",
    "- a geo area table that maps a zipcode to a type of geo area.\n",
    "\n",
    "The idea is that the hourly-segment, the holiday-or-weekend flag and the type of pickup and dropoff geo areas have an influence on the trip fare amount. We can create a more accurate ML model with these additional features.\n",
    "\n",
    "Each contextual feature table is a csv file in S3 bucket containing the respective mapping."
   ]
  },
  {
   "cell_type": "markdown",
   "id": "976afc32-8c6f-4e66-a4fc-819d702f7b2a",
   "metadata": {
    "jp-MarkdownHeadingCollapsed": true,
    "tags": []
   },
   "source": [
    "***\n",
    "\n",
    "**We will use the `trip_fare_dag` project for this example.**"
   ]
  },
  {
   "cell_type": "code",
   "execution_count": null,
   "id": "5d7dabf3-4c67-4a7a-9ae4-9b7832c29bd1",
   "metadata": {
    "tags": []
   },
   "outputs": [],
   "source": [
    "create project trip_fare_dag"
   ]
  },
  {
   "cell_type": "markdown",
   "id": "1664147e-01c5-4fd6-9ffe-1c1fffed8238",
   "metadata": {
    "tags": []
   },
   "source": [
    "***\n",
    "\n",
    "# Connect your Data Sources\n",
    "\n",
    "<html><img src=\"../../images/trip_fare_images/2_1.png\"/></html>\n",
    "\n",
    "In the Model 1 example we have connected the S3 bucket as a data source to Foresight for the trip table. Similarly in this step we will connect the S3 bucket as a data source to Foresight for the three contextual feature tables."
   ]
  },
  {
   "cell_type": "markdown",
   "id": "16f0afe6-4d93-4a30-91c2-f464486c1a75",
   "metadata": {
    "tags": []
   },
   "source": [
    "### Create a Foresight ML sources file\n",
    "\n",
    "Foresight establishes connections with data sources through a Foresight ML sources file. In the Model 2 example, we generated a Foresight ML sources file to connect the S3 bucket to the Foresight platform, enabling access to the trip table. Additionally, we created another Foresight ML sources file to incorporate three new contextual feature sources. These same files will be employed in this example.\n",
    "Use the templates and code snippets available at the icons to the left. Refer to the Foresight User Manual for help.\n",
    "Alternatively you may use the Foresight ML sources file from this tutorial.\n",
    "\n",
    "<br> The relevant sections in the `trip_fare_2_data_sources.yml` file look like this:\n",
    "    \n",
    "            meta:\n",
    "              source_type: aws\n",
    "              source_format: csv\n",
    "              path: s3a://foresight-tutorial/trip_fare/<table_name>.csv         <<<<                \n",
    "              anon: true                                                              \n",
    "              infer_schema: true                                                      \n",
    "              header: true                                                            \n",
    "              delimiter: ','                                                          \n",
    "              s3_endpoint_url: https://foresight-tutorial.s3.us-west-2.amazonaws.com  \n",
    "              batch_schedule: -1d"
   ]
  },
  {
   "cell_type": "code",
   "execution_count": null,
   "id": "977e3b7f-280f-435f-912f-c26f11feccf3",
   "metadata": {
    "tags": []
   },
   "outputs": [],
   "source": [
    "!cat trip_fare_prediction_model_2/trip_fare_2_data_sources.yml"
   ]
  },
  {
   "cell_type": "markdown",
   "id": "6066afe9-cf7f-4ef5-a948-755ff6afbf16",
   "metadata": {},
   "source": [
    "#### Add column schema to your data sources file\n",
    "\n",
    "Foresight can automatically infer column schema from your data sources and update the ML sources file. Use the `add columns` command to automatically infer and update the ML sources file with the data source column schema. After this command completes, you must review the column schema for correctness and if necessary edit the ML sources file to fix column names or data types. Alternatively you may manually edit the ML sources file and add all the column names and data types to match your data source schema."
   ]
  },
  {
   "cell_type": "code",
   "execution_count": null,
   "id": "09d1f5de-35c2-4e16-8682-c6ed4d3934d1",
   "metadata": {
    "tags": []
   },
   "outputs": [],
   "source": [
    "add columns trip_fare_prediction_model_2/trip_fare_2_data_sources.yml"
   ]
  },
  {
   "cell_type": "code",
   "execution_count": null,
   "id": "ac2af91a-d437-4904-9cdc-a67bf89b4736",
   "metadata": {
    "tags": []
   },
   "outputs": [],
   "source": [
    "!cat trip_fare_prediction_model_2/trip_fare_2_data_sources.yml"
   ]
  },
  {
   "cell_type": "markdown",
   "id": "37fd763f-c868-4a41-8377-c35eaefa66a7",
   "metadata": {
    "tags": []
   },
   "source": [
    "## Training DAG:\n",
    "\n",
    "<html><img src=\"../../images/trip_fare_images/4_1.png\"/></html>\n",
    "\n",
    "The Scheduled DAG feature empowers users to set up automated schedules for each stage of the machine learning pipeline. Users can define when specific tasks, such as featureset updates, dataset generation, or model retraining, should occur. This level of automation not only optimizes resource utilization but also ensures that models are regularly updated with the latest data, enhancing their accuracy and relevance.\n",
    "\n"
   ]
  },
  {
   "cell_type": "markdown",
   "id": "0f51493d-d21b-4b87-ac60-ccaad0f5e297",
   "metadata": {},
   "source": [
    "This functionality of the Schedule DAG is triggered by a user-defined JSON file, offering a flexible and user-friendly approach to configuring and scheduling tasks. This JSON file is like a detailed plan. It clearly lists the tasks that need to be done, making a straightforward guide for the DAG to automatically carry out its workflow."
   ]
  },
  {
   "cell_type": "markdown",
   "id": "ffd86f1e-62a5-4ea9-9925-c384ea5d7e19",
   "metadata": {},
   "source": [
    "### The DAG JSON file structure is organized as follows:\n",
    "\n",
    "**schedule_time:** Users specify the exact time they want the DAG to run.\\\n",
    "**schedule_interval:** Users define the frequency of DAG execution, indicating the interval between each run. users can also use a negative interval value to indicate a one-time execution.\\\n",
    "**dag_jobs:** A list of jobs or tasks that the DAG will execute. Each item in this list is a dictionary containing:\n",
    "\n",
    "- **name:** Users assigns a name for the specific task.\n",
    "- **command:** Users provides the command for a particular job, such as starting a featureset or creating a dataset.\n",
    "- **parent_name:** Users can specify whether this task should consider the status of prior jobs before executing. It establishes a dependency on the parent job.\n",
    "- **start_delay_secs:** Users can introduce a delay in seconds before executing the job, providing a time buffer if needed.\n",
    "\n",
    "\n",
    "\n",
    "Json file which we will be using for this example is as follows"
   ]
  },
  {
   "cell_type": "code",
   "execution_count": null,
   "id": "927b66a4-4ec0-4161-b5c1-1670cabddc5d",
   "metadata": {
    "tags": []
   },
   "outputs": [],
   "source": [
    "!cat trip_fare_dagfile.json"
   ]
  },
  {
   "cell_type": "markdown",
   "id": "dc65043f-aba2-4cde-a200-85e0eb55261c",
   "metadata": {},
   "source": [
    "## Preparation and Scheduling DAG:\n",
    "Before scheduling the DAG, we must first create job files for each task outlined in the JSON file.\n",
    "\n",
    "In this example, we will utilize the same job files used in Model 1"
   ]
  },
  {
   "cell_type": "code",
   "execution_count": null,
   "id": "3da120e3-41dd-4bab-a5ff-9d19352c526e",
   "metadata": {},
   "outputs": [],
   "source": [
    "schedule dag trip_fare_prediction_model_2/trip_fare_training_dag.json"
   ]
  },
  {
   "cell_type": "markdown",
   "id": "eab1409d-d932-481f-ae49-5538b62a6720",
   "metadata": {},
   "source": [
    "The **status** DAG command provides the current status of the DAG and each individual task mentioned in the JSON file. For tasks that have been initiated, it returns their current status. If a job has started, it indicates its ongoing status. If a particular job is in a waiting state, waiting for its parent job to complete, the status will be reported as \"job not found\" until it starts. This command helps to monitor the progression of DAG and the status of each task within it."
   ]
  },
  {
   "cell_type": "code",
   "execution_count": null,
   "id": "5f8f11dc-c607-4020-bca0-29f59d4f6824",
   "metadata": {},
   "outputs": [],
   "source": [
    "status dag trip_fare_dagfile"
   ]
  },
  {
   "cell_type": "markdown",
   "id": "e93e1cc0-9bfa-486b-b002-e46ccb1eca94",
   "metadata": {},
   "source": [
    "The **stop** DAG command is used to halt the DAG immediately, along with all its individual running jobs. Furthermore, it prevents the DAG from executing any further, especially if it is scheduled at intervals or set for recurring jobs. This command ensures an abrupt cessation of all ongoing processes, offering users control over the DAG's execution.\\\n",
    "**stop** DAG command not only stops the DAG but also forcefully terminates any individual jobs that may already be in progress within the DAG.\n",
    "\n"
   ]
  },
  {
   "cell_type": "code",
   "execution_count": null,
   "id": "60aec6bd-6939-429a-9089-cc7bf6a9e858",
   "metadata": {},
   "outputs": [],
   "source": [
    "stop dag trip_fare_dagfile"
   ]
  },
  {
   "cell_type": "markdown",
   "id": "03eaebd6-75de-4cc1-a0c5-6227d0b4183b",
   "metadata": {},
   "source": [
    "## Register a trained ML model\n",
    "\n",
    "After the training is complete, the `status` command will show COMPLETED status. The trained ML model must be registered before it can be used for predictions. The `list trained-models` command will list all the trained models within a project. The `register model` command will register a trained model. The `list registered-models` will list all registered models within a project."
   ]
  },
  {
   "cell_type": "markdown",
   "id": "9d74aa40-c16e-4997-9735-851b490dd632",
   "metadata": {},
   "source": [
    "##### To list all the models that have been trained"
   ]
  },
  {
   "cell_type": "code",
   "execution_count": null,
   "id": "aff5f794-e9f0-40e7-b2b7-e6264fb2225a",
   "metadata": {},
   "outputs": [],
   "source": [
    "list trained-models trip_fare_2_dl_model"
   ]
  },
  {
   "cell_type": "markdown",
   "id": "c80df5f4-64d0-4f68-a27f-8a935db00e14",
   "metadata": {},
   "source": [
    "##### Run this cell to register the model"
   ]
  },
  {
   "cell_type": "code",
   "execution_count": null,
   "id": "ac8a2fec-d59f-4d95-acea-3831a161510d",
   "metadata": {},
   "outputs": [],
   "source": [
    "register model trip_fare_2_dl_model,1,PRODUCTION"
   ]
  },
  {
   "cell_type": "markdown",
   "id": "f45e6ec1-2684-4df4-8abd-cef8399269af",
   "metadata": {},
   "source": [
    "#### To list all registered models"
   ]
  },
  {
   "cell_type": "code",
   "execution_count": null,
   "id": "15d246fb-8092-4c7a-a979-f2ec7599113a",
   "metadata": {},
   "outputs": [],
   "source": [
    "list registered-models"
   ]
  },
  {
   "cell_type": "markdown",
   "id": "6958459c-cd28-4815-b4e1-57eaeea013cb",
   "metadata": {},
   "source": [
    "***\n",
    "\n",
    "# Serve an ML Model\n",
    "\n",
    "<html><img src=\"../../images/trip_fare_images/2_6.png\"/></html>\n",
    "\n",
    "In this step we will deploy the trained ML model to serve prediction requests. \n",
    "\n",
    "### Create a Foresight ML job file for model serving\n",
    "\n",
    "ML models are deployed via a Foresight ML job file which specifies the ML serving options. \n",
    "\n",
    "Create a Foresight ML job file using the registered-model version that you want to serve. \n",
    "\n",
    "The `create prediction` command takes 2 required parameters the registered-model name and the model version. The 'dir' parameter specifies the location where the generated files will be saved. The command will generate 3 files, a Foresight ML job file, a sources yaml and a sample curl command requests file. Refer to the Foresight User Manual for help.\n",
    "\n",
    "The sources yaml will contain definitions for two REST sources, one for the prediction REST request and one for the prediction REST response and a definition for the prediction log table.\n",
    "\n",
    "**In the command below, replace the version '1' with the version of the registered model you are using.**"
   ]
  },
  {
   "cell_type": "code",
   "execution_count": null,
   "id": "a950f46c-495d-4249-9bd3-203d093340ae",
   "metadata": {},
   "outputs": [],
   "source": [
    "create prediction trip_fare_2_dl_model,1,dir=trip_fare_prediction_model_2/"
   ]
  },
  {
   "cell_type": "markdown",
   "id": "cfaadb0a-58c9-41ab-8c53-b8a2d9bc7dbe",
   "metadata": {},
   "source": [
    "***\n",
    "\n",
    "### Inspect the model serving files\n",
    "\n",
    "Inspect the model serving ML job file and the definitions for the prediction REST request, prediction REST response and the prediction log table.\n",
    "\n",
    "**Note: The generated files names have the model version number as shown below. In the commands below, replace the version '1' with the version of the registered model you are using.**\n",
    "\n",
    "    Example : <model name>_<version>_serve.ml , <model name>_<version>_sources.yml\n",
    "\n",
    "    "
   ]
  },
  {
   "cell_type": "code",
   "execution_count": null,
   "id": "b42cab95-b965-4565-8904-68d63a45da4a",
   "metadata": {},
   "outputs": [],
   "source": [
    "!cat trip_fare_prediction_model_2/trip_fare_2_dl_model_1_serve.ml"
   ]
  },
  {
   "cell_type": "code",
   "execution_count": null,
   "id": "1dd47732-8e16-426c-90b5-0de93cd15ee8",
   "metadata": {},
   "outputs": [],
   "source": [
    "!cat trip_fare_prediction_model_2/trip_fare_2_dl_model_1_sources.yml"
   ]
  },
  {
   "cell_type": "markdown",
   "id": "defb6458-80de-4c1b-b7af-583ae427aebc",
   "metadata": {},
   "source": [
    "### Deploy the model - Prediction DAG\n",
    "\n",
    "<html><img src=\"../../images/trip_fare_images/4_2.png\"/></html>\n",
    "\n",
    "We will schedule a DAG to start prediction and for deploying a model."
   ]
  },
  {
   "cell_type": "code",
   "execution_count": null,
   "id": "8ba6d83c-acbe-43e5-a934-36be5eacd511",
   "metadata": {},
   "outputs": [],
   "source": [
    "schedule dag trip_fare_prediction_model_2/trip_fare_prediction_dag.json"
   ]
  },
  {
   "cell_type": "markdown",
   "id": "0a29feae-fed3-45b3-b748-17f537245f8e",
   "metadata": {},
   "source": [
    "The command '**status dag**' will provide the current status of the model serving. The URL presented in the output serves as the endpoint for sending REST prediction requests, which can be done using tools such as curl or other suitable methods."
   ]
  },
  {
   "cell_type": "code",
   "execution_count": null,
   "id": "e4e61a6b-5447-458c-b298-659504b4c075",
   "metadata": {},
   "outputs": [],
   "source": [
    "status dag trip_fare_prediction_dagfile"
   ]
  },
  {
   "cell_type": "markdown",
   "id": "009584a7-6d57-494d-afba-6a389a9292ef",
   "metadata": {},
   "source": [
    "## Predict trip fare amounts\n",
    "\n",
    "Use the `test prediction` command to send prediction requests to the deployed model. The command by default uses the last 10 rows from the training dataset for prediction request data and sends curl requests to the deployed model. The predictions responses are collected and displayed.\n",
    "\n",
    "Refer to the Foresight User Manual for help."
   ]
  },
  {
   "cell_type": "markdown",
   "id": "932e00c9-58d9-4c47-861f-8c911270f2c0",
   "metadata": {},
   "source": [
    "Note: Once you run start prediction command, a prediction service starts running which is ready for serving. You can use the URL the prediction service gives you to send curl requests. Upon running the test prediction it also outputs the \"Example Curl Request\". Use this Curl request example to send data to predcition service or integrate the same into applications which where the predictions can be served."
   ]
  },
  {
   "cell_type": "code",
   "execution_count": null,
   "id": "0a93a443-c62a-4417-a2db-5dac9838923f",
   "metadata": {},
   "outputs": [],
   "source": [
    "test prediction trip_fare_2_dl_model_1_serve"
   ]
  },
  {
   "cell_type": "markdown",
   "id": "a24b9550-8805-46ef-8a94-86b899cc6d1c",
   "metadata": {},
   "source": [
    "Below is a markdowncell which shows how to run the Curl Request to fetch predictions. Convert the cell into Code state and then enter the prediction URL in the space mentioned and execute the cell to get response."
   ]
  },
  {
   "cell_type": "markdown",
   "id": "4403b529-4cbb-4039-a261-10c15060ec75",
   "metadata": {},
   "source": [
    "!curl -X GET \">enter the prediction URL here<\" -H \"Content-Type: application/json\" -d '[{\"rest_request_id\": \"prediction_test-1\", \"pickup_datetime\": \"2022-11-12 11:29:05\", \"pickup_zipcode\": \"10069\", \"dropoff_zipcode\": \"10107\", \"passenger_count\": 3}]'"
   ]
  },
  {
   "cell_type": "markdown",
   "id": "a0d40ea7-22b7-4899-bb09-b691c1ae383e",
   "metadata": {},
   "source": [
    "### Stop the deployed model\n",
    "\n",
    "Use the `stop dag` command to stop ML model serving when you have completed the prediction requests. This step is optional, you may choose to leave the model deployed."
   ]
  },
  {
   "cell_type": "code",
   "execution_count": null,
   "id": "48df1b42-3a2f-40ff-b810-18076c5d4793",
   "metadata": {},
   "outputs": [],
   "source": [
    "stop prediction trip_fare_2_dl_model_1_serve"
   ]
  },
  {
   "cell_type": "code",
   "execution_count": null,
   "id": "334299bb-ee90-4ba8-ae9b-ef7adbab08ee",
   "metadata": {},
   "outputs": [],
   "source": []
  }
 ],
 "metadata": {
  "kernelspec": {
   "display_name": "Foresight",
   "language": "python",
   "name": "foresight"
  },
  "language_info": {
   "file_extension": ".py",
   "mimetype": "text/plain",
   "name": "python"
  }
 },
 "nbformat": 4,
 "nbformat_minor": 5
}
